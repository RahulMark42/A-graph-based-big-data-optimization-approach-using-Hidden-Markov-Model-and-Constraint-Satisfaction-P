{
 "cells": [
  {
   "cell_type": "code",
   "execution_count": 155,
   "metadata": {},
   "outputs": [
    {
     "name": "stderr",
     "output_type": "stream",
     "text": [
      "[nltk_data] Error loading words: <urlopen error [Errno 11001]\n",
      "[nltk_data]     getaddrinfo failed>\n",
      "[nltk_data] Downloading package vader_lexicon to\n",
      "[nltk_data]     C:\\Users\\rahul\\AppData\\Roaming\\nltk_data...\n",
      "[nltk_data]   Package vader_lexicon is already up-to-date!\n"
     ]
    }
   ],
   "source": [
    "# Making necessary imports\n",
    "import pandas as pd\n",
    "import matplotlib.pyplot as plt\n",
    "import plotly.express as px\n",
    "from datetime import datetime\n",
    "import random\n",
    "import time\n",
    "from hmmlearn import hmm\n",
    "import numpy as np\n",
    "from sklearn.model_selection import train_test_split\n",
    "import re\n",
    "import pandas as pd\n",
    "import nltk\n",
    "nltk.download('words')\n",
    "nltk.download('vader_lexicon')\n",
    "from nltk.sentiment.vader import SentimentIntensityAnalyzer\n",
    "from abc import ABC, abstractmethod"
   ]
  },
  {
   "cell_type": "code",
   "execution_count": 156,
   "metadata": {},
   "outputs": [],
   "source": [
    "# reading the dataset\n",
    "djia_dataset = pd.read_csv(\"DJA.csv\")"
   ]
  },
  {
   "cell_type": "code",
   "execution_count": 157,
   "metadata": {},
   "outputs": [],
   "source": [
    "djia_dataset = djia_dataset.dropna()"
   ]
  },
  {
   "cell_type": "code",
   "execution_count": 158,
   "metadata": {},
   "outputs": [
    {
     "data": {
      "text/html": [
       "<div>\n",
       "<style scoped>\n",
       "    .dataframe tbody tr th:only-of-type {\n",
       "        vertical-align: middle;\n",
       "    }\n",
       "\n",
       "    .dataframe tbody tr th {\n",
       "        vertical-align: top;\n",
       "    }\n",
       "\n",
       "    .dataframe thead th {\n",
       "        text-align: right;\n",
       "    }\n",
       "</style>\n",
       "<table border=\"1\" class=\"dataframe\">\n",
       "  <thead>\n",
       "    <tr style=\"text-align: right;\">\n",
       "      <th></th>\n",
       "      <th>Date</th>\n",
       "      <th>DJIA</th>\n",
       "    </tr>\n",
       "  </thead>\n",
       "  <tbody>\n",
       "    <tr>\n",
       "      <th>0</th>\n",
       "      <td>1/20/2017</td>\n",
       "      <td>19827.25</td>\n",
       "    </tr>\n",
       "    <tr>\n",
       "      <th>1</th>\n",
       "      <td>1/23/2017</td>\n",
       "      <td>19799.85</td>\n",
       "    </tr>\n",
       "    <tr>\n",
       "      <th>2</th>\n",
       "      <td>1/24/2017</td>\n",
       "      <td>19912.71</td>\n",
       "    </tr>\n",
       "    <tr>\n",
       "      <th>3</th>\n",
       "      <td>1/25/2017</td>\n",
       "      <td>20068.51</td>\n",
       "    </tr>\n",
       "    <tr>\n",
       "      <th>4</th>\n",
       "      <td>1/26/2017</td>\n",
       "      <td>20100.91</td>\n",
       "    </tr>\n",
       "    <tr>\n",
       "      <th>...</th>\n",
       "      <td>...</td>\n",
       "      <td>...</td>\n",
       "    </tr>\n",
       "    <tr>\n",
       "      <th>730</th>\n",
       "      <td>1/14/2020</td>\n",
       "      <td>28939.67</td>\n",
       "    </tr>\n",
       "    <tr>\n",
       "      <th>731</th>\n",
       "      <td>1/15/2020</td>\n",
       "      <td>29030.22</td>\n",
       "    </tr>\n",
       "    <tr>\n",
       "      <th>732</th>\n",
       "      <td>1/16/2020</td>\n",
       "      <td>29297.64</td>\n",
       "    </tr>\n",
       "    <tr>\n",
       "      <th>733</th>\n",
       "      <td>1/17/2020</td>\n",
       "      <td>29348.10</td>\n",
       "    </tr>\n",
       "    <tr>\n",
       "      <th>734</th>\n",
       "      <td>1/21/2020</td>\n",
       "      <td>29196.04</td>\n",
       "    </tr>\n",
       "  </tbody>\n",
       "</table>\n",
       "<p>735 rows × 2 columns</p>\n",
       "</div>"
      ],
      "text/plain": [
       "          Date      DJIA\n",
       "0    1/20/2017  19827.25\n",
       "1    1/23/2017  19799.85\n",
       "2    1/24/2017  19912.71\n",
       "3    1/25/2017  20068.51\n",
       "4    1/26/2017  20100.91\n",
       "..         ...       ...\n",
       "730  1/14/2020  28939.67\n",
       "731  1/15/2020  29030.22\n",
       "732  1/16/2020  29297.64\n",
       "733  1/17/2020  29348.10\n",
       "734  1/21/2020  29196.04\n",
       "\n",
       "[735 rows x 2 columns]"
      ]
     },
     "execution_count": 158,
     "metadata": {},
     "output_type": "execute_result"
    }
   ],
   "source": [
    "djia_dataset"
   ]
  },
  {
   "cell_type": "code",
   "execution_count": 159,
   "metadata": {},
   "outputs": [],
   "source": [
    "# reading the dataset\n",
    "snp = pd.read_csv(\"SNP.csv\")\n",
    "snp = snp[1075:1829]\n",
    "nasdaq = pd.read_csv(\"NASDAQCOM.csv\")"
   ]
  },
  {
   "cell_type": "code",
   "execution_count": 160,
   "metadata": {},
   "outputs": [
    {
     "data": {
      "text/plain": [
       "Text(0, 0.5, 'Stock Close Price')"
      ]
     },
     "execution_count": 160,
     "metadata": {},
     "output_type": "execute_result"
    },
    {
     "data": {
      "image/png": "[encoded data removed]",
      "text/plain": [
       "<Figure size 720x576 with 1 Axes>"
      ]
     },
     "metadata": {
      "needs_background": "light"
     },
     "output_type": "display_data"
    }
   ],
   "source": [
    "# Plot actual trend of data\n",
    "fig = plt.figure(figsize=(10,8))\n",
    "plt.plot(djia_dataset[\"DJIA\"].tolist(), label='DJIA')\n",
    "plt.plot(nasdaq[\"Close\"].tolist(), label='NASDAQ')\n",
    "plt.plot(snp[\"Close/Last\"].tolist(), label='SNP500')\n",
    "plt.legend(loc='upper left')\n",
    "plt.xlabel(\"Date\")\n",
    "plt.ylabel(\"Stock Close Price\")"
   ]
  },
  {
   "cell_type": "code",
   "execution_count": 161,
   "metadata": {},
   "outputs": [],
   "source": [
    "# Function to calculate the variation\n",
    "def find_variation(close_prices):\n",
    "    variation = [0]\n",
    "    for i in range(1, len(close_prices)):\n",
    "        variation.append(((close_prices[i] - close_prices[i-1])/close_prices[i])*100)\n",
    "    return variation"
   ]
  },
  {
   "cell_type": "code",
   "execution_count": 162,
   "metadata": {},
   "outputs": [
    {
     "data": {
      "text/plain": [
       "Text(0, 0.5, 'Variation')"
      ]
     },
     "execution_count": 162,
     "metadata": {},
     "output_type": "execute_result"
    },
    {
     "data": {
      "image/png": "[encoded data removed]",
      "text/plain": [
       "<Figure size 720x432 with 1 Axes>"
      ]
     },
     "metadata": {
      "needs_background": "light"
     },
     "output_type": "display_data"
    }
   ],
   "source": [
    "# Calculating and displaying variation\n",
    "djia_variation = find_variation(djia_dataset[\"DJIA\"].tolist())\n",
    "snp_variation = find_variation(snp[\"Close/Last\"].tolist())\n",
    "nasdaq_variation = find_variation(nasdaq[\"Close\"].tolist())\n",
    "fig = plt.figure(figsize=(10,6))\n",
    "plt.plot(djia_variation, label = 'DJIA Close Price Variation')\n",
    "plt.plot(nasdaq_variation, label = 'NASDAQ Close Price Variation')\n",
    "plt.plot(snp_variation, label='SNP Close Price Variation')\n",
    "plt.legend(loc='upper right')\n",
    "plt.xlabel('Time Period/Date')\n",
    "plt.ylabel('Variation')"
   ]
  },
  {
   "cell_type": "code",
   "execution_count": 163,
   "metadata": {},
   "outputs": [],
   "source": [
    "# Function to generate random transition matrix and starting probability\n",
    "\n",
    "def generate_random_transition_matrix():\n",
    "    k = 8\n",
    "    result = [[random.uniform(0, 0.1 / k) for i in range(k)] for j in range(k)]\n",
    "    for j, r in enumerate(result):\n",
    "        r[j] += 1 - sum(r)\n",
    "    return np.asarray(result)\n",
    "def generate_random_start_prob():\n",
    "    k = 8\n",
    "    start_prob = [np.random.uniform(0,1) for _ in range(k)]\n",
    "    start_prob = np.asarray(start_prob)\n",
    "    start_prob = start_prob/np.sum(start_prob)\n",
    "    return np.asarray(start_prob)"
   ]
  },
  {
   "cell_type": "code",
   "execution_count": 164,
   "metadata": {},
   "outputs": [],
   "source": [
    "# CSP Solver\n",
    "from queue import PriorityQueue\n",
    "from abc import ABC, abstractmethod\n",
    "\n",
    "\n",
    "class Constraint(ABC):\n",
    "    def __init__(self, variables):\n",
    "        self.variables = variables\n",
    "\n",
    "    @abstractmethod\n",
    "    def satisfied(self, assignment):\n",
    "        pass\n",
    "\n",
    "\n",
    "class CSP():\n",
    "    def __init__(self, variables, domains):\n",
    "        self.variables = variables\n",
    "        self.domains = domains\n",
    "        self.constraints = {}\n",
    "        for variable in self.variables:\n",
    "            self.constraints[variable] = []\n",
    "            if variable not in self.domains:\n",
    "                raise LookupError(\n",
    "                    'Every variable should have a domain assigned to it.')\n",
    "\n",
    "    def add_constraint(self, constraint):\n",
    "        for variable in constraint.variables:\n",
    "            if variable not in self.variables:\n",
    "                raise LookupError(\"Variable in constraint not in CSP\")\n",
    "            else:\n",
    "                self.constraints[variable].append(constraint)\n",
    "\n",
    "    def consistent(self, variable, assignment):\n",
    "        for constraint in self.constraints[variable]:\n",
    "            if not constraint.satisfied(assignment):\n",
    "                return False\n",
    "        return True\n",
    "\n",
    "    def backtracking_search(self, assignment={}):\n",
    "        # assignment is complete if every variable is assigned (our base case)\n",
    "        if len(assignment) == len(self.variables):\n",
    "            return assignment\n",
    "        # get all variables in the CSP but not in the assignment\n",
    "        unassigned = [v for v in self.variables if v not in assignment]\n",
    "        first = unassigned[0]\n",
    "        for value in self.domains[first]:\n",
    "            local_assignment = assignment.copy()\n",
    "            local_assignment[first] = value\n",
    "            # if we're still consistent, we recurse (continue)\n",
    "            if self.consistent(first, local_assignment):\n",
    "                result = self.backtracking_search(local_assignment)\n",
    "                if result is not None:\n",
    "                    return result\n",
    "        return None\n",
    "\n",
    "\n",
    "class Constraint(Constraint):\n",
    "    def __init__(self, place1, place2):\n",
    "        super().__init__([place1, place2])\n",
    "        self.place1 = place1\n",
    "        self.place2 = place2\n",
    "\n",
    "    def satisfied(self, assignment):\n",
    "        if self.place1 not in assignment or self.place2 not in assignment:\n",
    "            return True\n",
    "        return assignment[self.place1] != assignment[self.place2]"
   ]
  },
  {
   "cell_type": "code",
   "execution_count": 165,
   "metadata": {},
   "outputs": [],
   "source": [
    "# Trump Tweet Sentiment Analysis\n",
    "sid = SentimentIntensityAnalyzer()\n",
    "words = set(nltk.corpus.words.words())\n",
    "real_donald_trump = pd.read_csv(\"realdonaldtrump.csv\")\n",
    "trump_tweets = pd.read_csv(\"trumptweets.csv\")\n",
    "cond1 = real_donald_trump['date'] >= \"2017-01-20\"\n",
    "cond2 = real_donald_trump['date'] <= \"2020-01-20\"\n",
    "real_donald_trump = real_donald_trump.where((cond1 & cond2)).dropna()\n",
    "def cleaner(tweet):\n",
    "    tweet = re.sub(\"@[A-Za-z0-9]+\",\"\",tweet) #Remove @ sign\n",
    "    tweet = re.sub(r\"(?:\\@|http?\\://|https?\\://|www)\\S+\", \"\", tweet) #Remove http links\n",
    "    tweet = \" \".join(tweet.split())\n",
    "    tweet = tweet.replace(\"#\", \"\").replace(\"_\", \" \") #Remove hashtag sign but keep the text\n",
    "    tweet = \" \".join(w for w in nltk.wordpunct_tokenize(tweet)\n",
    "         if w.lower() in words or not w.isalpha())\n",
    "    return tweet\n",
    "    \n",
    "\n",
    "real_donald_trump['content_clean'] = real_donald_trump['content'].apply(cleaner)\n",
    "word_dict = {'manipulate':-1,'manipulative':-1,'jamescharlesiscancelled':-1,'jamescharlesisoverparty':-1,\n",
    "            'pedophile':-1,'pedo':-1,'cancel':-1,'cancelled':-1,'cancel culture':0.4,'teamtati':-1,'teamjames':1,\n",
    "            'teamjamescharles':1,'liar':-1,'MAGA':-1}\n",
    "\n",
    "\n",
    "sid = SentimentIntensityAnalyzer()\n",
    "sid.lexicon.update(word_dict)\n",
    "\n",
    "list1 = []\n",
    "for i in real_donald_trump['content_clean']:\n",
    "    list1.append((sid.polarity_scores(str(i)))['compound'])\n",
    "real_donald_trump['sentiment'] = list1"
   ]
  },
  {
   "cell_type": "code",
   "execution_count": 166,
   "metadata": {},
   "outputs": [],
   "source": [
    "# defining a dictionary of states\n",
    "states_dict = {\n",
    "    0: 'very-small-rise',\n",
    "    1: 'small-rise',\n",
    "    2: 'large-rise',\n",
    "    3: 'very-large-rise',\n",
    "    4: 'very-small-drop',\n",
    "    5: 'small-drop',\n",
    "    6: 'large-drop',\n",
    "    7: 'very-large-drop',\n",
    "}"
   ]
  },
  {
   "cell_type": "code",
   "execution_count": 167,
   "metadata": {},
   "outputs": [],
   "source": [
    "# Function to train HMM without CSP\n",
    "def training_hmm_without_csp(training_data):\n",
    "    start_prob = generate_random_start_prob()\n",
    "    transition_matrix = generate_random_transition_matrix()\n",
    "    model = hmm.GMMHMM(n_components=8, n_mix = 7, covariance_type=\"diag\", n_iter=10)\n",
    "    model.fit(training_data)\n",
    "    return model"
   ]
  },
  {
   "cell_type": "code",
   "execution_count": 168,
   "metadata": {},
   "outputs": [],
   "source": [
    "# Function to train HMM with CSP\n",
    "def training_hmm_with_csp(training_data, tweet_dataset):\n",
    "    start_prob = generate_random_start_prob()\n",
    "    transition_matrix = generate_random_transition_matrix()\n",
    "\n",
    "    variables = [\n",
    "    \"0\",\"1\",\"2\",\"3\",\"4\",\"5\",\"6\",\"7\"\n",
    "    ]\n",
    "    domains = {\n",
    "        \"0\":[\"0\",\"1\"],\n",
    "        \"1\":[\"0\",\"1\"],\n",
    "        \"2\":[\"0\",\"1\"],\n",
    "        \"3\":[\"0\",\"1\"],\n",
    "        \"4\":[\"0\",\"1\"],\n",
    "        \"5\":[\"0\",\"1\"],\n",
    "        \"6\":[\"0\",\"1\"],\n",
    "        \"7\":[\"0\",\"1\"],\n",
    "        \"8\":[\"0\",\"1\"],\n",
    "    }\n",
    "    csp = CSP(variables, domains)\n",
    "\n",
    "    tweet_sentiment = tweet_dataset[\"sentiment\"].tolist()\n",
    "    # Adding constraints to our model\n",
    "    for i in range(len(tweet_sentiment)):\n",
    "        if(tweet_sentiment[i] >= 0.9): csp.add_constraint(Constraint(\"4\",\"3\"))\n",
    "        if(tweet_sentiment[i] >= 0.6 and tweet_sentiment[i] < 0.9): csp.add_constraint(Constraint(\"1\",\"2\"))\n",
    "        if(tweet_sentiment[i] >= 0.3 and tweet_sentiment[i] < 0.1): csp.add_constraint(Constraint(\"4\",\"5\"))\n",
    "        else: csp.add_constraint(Constraint(\"6\",\"7\"))\n",
    "\n",
    "    solution = csp.backtracking_search()\n",
    "    transition_matrix = np.identity(8)\n",
    "    model = hmm.GMMHMM(n_components=8, n_mix = 7, covariance_type=\"diag\", n_iter=10)\n",
    "    model.transmat_ = transition_matrix\n",
    "    model.fit(training_data)\n",
    "\n",
    "    return model\n",
    "    "
   ]
  },
  {
   "cell_type": "code",
   "execution_count": 169,
   "metadata": {},
   "outputs": [],
   "source": [
    "# Predict the index of states (hidden states)\n",
    "def calculate_index_states(model, X_test):\n",
    "    X_test = np.asarray(X_test).reshape(-1,1)\n",
    "    index_states = model.predict(X_test)\n",
    "    return index_states"
   ]
  },
  {
   "cell_type": "code",
   "execution_count": 170,
   "metadata": {},
   "outputs": [],
   "source": [
    "# Classify the actual variation of each state (Index)\n",
    "def classify_state_variation(variations):\n",
    "    states = []\n",
    "    for variation in variations:\n",
    "        if(0 <= variation and variation < 0.1):\n",
    "            states.append(0)\n",
    "        elif(0.1 <= variation and variation < 1):\n",
    "            states.append(1)\n",
    "        elif(1 <= variation and variation < 2):\n",
    "            states.append(2)\n",
    "        elif(variation >= 2):\n",
    "            states.append(3)\n",
    "        elif(-0.1 < variation and variation <= 0):\n",
    "            states.append(4)\n",
    "        elif(-1 < variation and variation <= -0.1):\n",
    "            states.append(5)\n",
    "        elif(-2 < variation and variation <= -1):\n",
    "            states.append(6)\n",
    "        elif(variation <= -2):\n",
    "            states.append(7)\n",
    "    return states"
   ]
  },
  {
   "cell_type": "code",
   "execution_count": 171,
   "metadata": {},
   "outputs": [],
   "source": [
    "# # Classify the actual variation of each state (Index)\n",
    "\n",
    "djia_states = classify_state_variation(djia_variation)"
   ]
  },
  {
   "cell_type": "code",
   "execution_count": 172,
   "metadata": {},
   "outputs": [],
   "source": [
    "# Choosing best out of 100 models with out CSP\n",
    "def choose_best_model_without_csp(data):\n",
    "    X = data\n",
    "    X_train = X[:int(0.8*len(X))]\n",
    "    X_test = X[int(0.8*len(X)):]\n",
    "    X_train = np.asarray(X_train).reshape(-1, 1)\n",
    "    X_test = np.asarray(X_test).reshape(-1, 1)\n",
    "    model = training_hmm_without_csp(X_train)\n",
    "    best_model = model.fit(X_train)\n",
    "    best_model_score = best_model.score(X_test)\n",
    "    print(\"Model 1: Score = \" + str(best_model_score))\n",
    "    for i in range(2,101):\n",
    "        model = training_hmm_without_csp(X_train)\n",
    "        print(\"Model \" + str(i) + \": Score = \" + str(model.score(X_test)))\n",
    "        if(model.score(X_test) >= best_model_score):\n",
    "            best_model_score = model.score(X_test)\n",
    "            best_model = model\n",
    "\n",
    "    print(\"Best Model Found - Score = \" + str(best_model_score))\n",
    "    return best_model, best_model_score"
   ]
  },
  {
   "cell_type": "code",
   "execution_count": 173,
   "metadata": {},
   "outputs": [],
   "source": [
    "# Choosing best out of 100 models with CSP\n",
    "def choose_best_model_with_csp(data, tweet_dataset):\n",
    "    X = data\n",
    "    X_train = X[:int(0.8*len(X))]\n",
    "    X_test = X[int(0.8*len(X)):]\n",
    "    X_train = np.asarray(X_train).reshape(-1, 1)\n",
    "    X_test = np.asarray(X_test).reshape(-1, 1)\n",
    "    model = training_hmm_without_csp(X_train)\n",
    "    best_model = model.fit(X_train)\n",
    "    best_model_score = best_model.score(X_test)\n",
    "    print(\"Model 1: Score = \" + str(best_model_score))\n",
    "    for i in range(2,101):\n",
    "        model = training_hmm_with_csp(X_train, tweet_dataset)\n",
    "        print(\"Model \" + str(i) + \": Score = \" + str(model.score(X_test)))\n",
    "        if(model.score(X_test) >= best_model_score):\n",
    "            best_model_score = model.score(X_test)\n",
    "            best_model = model\n",
    "\n",
    "    print(\"Best Model Found - Score = \" + str(best_model_score))\n",
    "    return best_model, best_model_score"
   ]
  },
  {
   "cell_type": "code",
   "execution_count": 174,
   "metadata": {},
   "outputs": [
    {
     "name": "stderr",
     "output_type": "stream",
     "text": [
      "Even though the 'startprob_' attribute is set, it will be overwritten during initialization because 'init_params' contains 's'\n",
      "Even though the 'transmat_' attribute is set, it will be overwritten during initialization because 'init_params' contains 't'\n",
      "Even though the 'weights_' attribute is set, it will be overwritten during initialization because 'init_params' contains 'w'\n",
      "Even though the 'means_' attribute is set, it will be overwritten during initialization because 'init_params' contains 'm'\n",
      "Even though the 'covars_' attribute is set, it will be overwritten during initialization because 'init_params' contains 'c'\n"
     ]
    },
    {
     "name": "stdout",
     "output_type": "stream",
     "text": [
      "Model 1: Score = 631.3056823204879\n",
      "Model 2: Score = 529.4353496528934\n",
      "Model 3: Score = 691.0078976555378\n",
      "Model 4: Score = 561.5692845815104\n",
      "Model 5: Score = 450.5479711380234\n",
      "Model 6: Score = 520.2474089314475\n",
      "Model 7: Score = 801.4372759103052\n",
      "Model 8: Score = 743.8738430998566\n",
      "Model 9: Score = 633.818515151551\n",
      "Model 10: Score = 629.5983689175998\n",
      "Model 11: Score = 677.056512337077\n",
      "Model 12: Score = 735.8230851945693\n",
      "Model 13: Score = 482.9947897987864\n",
      "Model 14: Score = 746.0375819000685\n",
      "Model 15: Score = 190.8736439268032\n",
      "Model 16: Score = 736.9797608410812\n",
      "Model 17: Score = 506.4540339607925\n",
      "Model 18: Score = 745.7309613102648\n",
      "Model 19: Score = 377.9764933557926\n",
      "Model 20: Score = 723.7286305803038\n",
      "Model 21: Score = 585.5789578055408\n",
      "Model 22: Score = 599.3421361622121\n",
      "Model 23: Score = 702.7938172265319\n",
      "Model 24: Score = 571.6574801579216\n",
      "Model 25: Score = 804.9153317322837\n",
      "Model 26: Score = 737.7495445672806\n",
      "Model 27: Score = 744.6998922602705\n",
      "Model 28: Score = 740.4556901093683\n",
      "Model 29: Score = 738.4584579623205\n",
      "Model 30: Score = 616.0594773512463\n",
      "Model 31: Score = 662.6683335099532\n",
      "Model 32: Score = 583.5509701701175\n",
      "Model 33: Score = 626.9202626550752\n",
      "Model 34: Score = 458.49954135012615\n",
      "Model 35: Score = 614.2914178317824\n",
      "Model 36: Score = 725.9831028912881\n",
      "Model 37: Score = 694.424684875353\n",
      "Model 38: Score = 634.6263165278128\n",
      "Model 39: Score = 385.22253966080154\n",
      "Model 40: Score = 795.6165960522461\n",
      "Model 41: Score = 617.2280162851391\n",
      "Model 42: Score = 689.6719050716406\n",
      "Model 43: Score = 575.1423746951426\n",
      "Model 44: Score = 615.9679819534424\n",
      "Model 45: Score = 645.8624009898924\n",
      "Model 46: Score = 665.5801600847036\n",
      "Model 47: Score = 989.5312791244694\n",
      "Model 48: Score = 629.3201500771942\n",
      "Model 49: Score = 725.7723137554597\n",
      "Model 50: Score = 587.540437641082\n",
      "Model 51: Score = 641.813743025677\n",
      "Model 52: Score = 210.10046604702663\n",
      "Model 53: Score = 428.6660669274723\n",
      "Model 54: Score = 478.2844887288998\n",
      "Model 55: Score = 615.9384429503095\n",
      "Model 56: Score = 696.6486124813979\n",
      "Model 57: Score = 983.1799683169826\n",
      "Model 58: Score = 824.6509577662157\n",
      "Model 59: Score = 686.2615431232019\n",
      "Model 60: Score = 527.8726932919002\n",
      "Model 61: Score = 814.7116542484713\n",
      "Model 62: Score = 470.9669697960306\n",
      "Model 63: Score = 414.6053412722316\n",
      "Model 64: Score = 708.1673934136622\n",
      "Model 65: Score = 777.56330334101\n",
      "Model 66: Score = 633.4609739422964\n",
      "Model 67: Score = 674.6694114048366\n",
      "Model 68: Score = 642.2115682528099\n",
      "Model 69: Score = 434.9548090248931\n",
      "Model 70: Score = 718.0286934961836\n",
      "Model 71: Score = 698.8755552999206\n",
      "Model 72: Score = 676.9225829178764\n",
      "Model 73: Score = 585.4032429988277\n",
      "Model 74: Score = 742.8977747870176\n",
      "Model 75: Score = 765.7855766111114\n",
      "Model 76: Score = 713.1839359464875\n",
      "Model 77: Score = 661.5012019702204\n",
      "Model 78: Score = 733.0447349264577\n",
      "Model 79: Score = 729.5037921712138\n",
      "Model 80: Score = 760.8010285002612\n",
      "Model 81: Score = 560.4817457609424\n",
      "Model 82: Score = 369.7307861404318\n",
      "Model 83: Score = 218.71092601974345\n",
      "Model 84: Score = 862.8976619428024\n",
      "Model 85: Score = 722.6752966649317\n",
      "Model 86: Score = 716.0718087086402\n",
      "Model 87: Score = 733.6505798402565\n",
      "Model 88: Score = 664.5255765116129\n",
      "Model 89: Score = 656.0078701401981\n",
      "Model 90: Score = 542.4598753061794\n",
      "Model 91: Score = 636.1868882222758\n",
      "Model 92: Score = 656.4506048604185\n",
      "Model 93: Score = 679.1763466071509\n",
      "Model 94: Score = 521.2689009924521\n",
      "Model 95: Score = 751.9672872940779\n",
      "Model 96: Score = 45.87573937422696\n",
      "Model 97: Score = 706.0008293392781\n",
      "Model 98: Score = 703.9087432982037\n",
      "Model 99: Score = 614.547785238635\n",
      "Model 100: Score = 727.9809345142503\n",
      "Best Model Found - Score = 989.5312791244694\n"
     ]
    },
    {
     "name": "stderr",
     "output_type": "stream",
     "text": [
      "Even though the 'startprob_' attribute is set, it will be overwritten during initialization because 'init_params' contains 's'\n",
      "Even though the 'transmat_' attribute is set, it will be overwritten during initialization because 'init_params' contains 't'\n",
      "Even though the 'weights_' attribute is set, it will be overwritten during initialization because 'init_params' contains 'w'\n",
      "Even though the 'means_' attribute is set, it will be overwritten during initialization because 'init_params' contains 'm'\n",
      "Even though the 'covars_' attribute is set, it will be overwritten during initialization because 'init_params' contains 'c'\n",
      "Even though the 'transmat_' attribute is set, it will be overwritten during initialization because 'init_params' contains 't'\n"
     ]
    },
    {
     "name": "stdout",
     "output_type": "stream",
     "text": [
      "Model 1: Score = 648.0085828755507\n"
     ]
    },
    {
     "name": "stderr",
     "output_type": "stream",
     "text": [
      "Even though the 'transmat_' attribute is set, it will be overwritten during initialization because 'init_params' contains 't'\n"
     ]
    },
    {
     "name": "stdout",
     "output_type": "stream",
     "text": [
      "Model 2: Score = 541.5620644093378\n"
     ]
    },
    {
     "name": "stderr",
     "output_type": "stream",
     "text": [
      "Even though the 'transmat_' attribute is set, it will be overwritten during initialization because 'init_params' contains 't'\n"
     ]
    },
    {
     "name": "stdout",
     "output_type": "stream",
     "text": [
      "Model 3: Score = 644.6291473377423\n"
     ]
    },
    {
     "name": "stderr",
     "output_type": "stream",
     "text": [
      "Even though the 'transmat_' attribute is set, it will be overwritten during initialization because 'init_params' contains 't'\n"
     ]
    },
    {
     "name": "stdout",
     "output_type": "stream",
     "text": [
      "Model 4: Score = 557.4137043067136\n"
     ]
    },
    {
     "name": "stderr",
     "output_type": "stream",
     "text": [
      "Even though the 'transmat_' attribute is set, it will be overwritten during initialization because 'init_params' contains 't'\n"
     ]
    },
    {
     "name": "stdout",
     "output_type": "stream",
     "text": [
      "Model 5: Score = 524.4370568063143\n"
     ]
    },
    {
     "name": "stderr",
     "output_type": "stream",
     "text": [
      "Even though the 'transmat_' attribute is set, it will be overwritten during initialization because 'init_params' contains 't'\n"
     ]
    },
    {
     "name": "stdout",
     "output_type": "stream",
     "text": [
      "Model 6: Score = 742.0385133550577\n"
     ]
    },
    {
     "name": "stderr",
     "output_type": "stream",
     "text": [
      "Even though the 'transmat_' attribute is set, it will be overwritten during initialization because 'init_params' contains 't'\n"
     ]
    },
    {
     "name": "stdout",
     "output_type": "stream",
     "text": [
      "Model 7: Score = 706.6881335512554\n"
     ]
    },
    {
     "name": "stderr",
     "output_type": "stream",
     "text": [
      "Even though the 'transmat_' attribute is set, it will be overwritten during initialization because 'init_params' contains 't'\n"
     ]
    },
    {
     "name": "stdout",
     "output_type": "stream",
     "text": [
      "Model 8: Score = 606.6722622603359\n"
     ]
    },
    {
     "name": "stderr",
     "output_type": "stream",
     "text": [
      "Even though the 'transmat_' attribute is set, it will be overwritten during initialization because 'init_params' contains 't'\n"
     ]
    },
    {
     "name": "stdout",
     "output_type": "stream",
     "text": [
      "Model 9: Score = 784.984647296071\n"
     ]
    },
    {
     "name": "stderr",
     "output_type": "stream",
     "text": [
      "Even though the 'transmat_' attribute is set, it will be overwritten during initialization because 'init_params' contains 't'\n"
     ]
    },
    {
     "name": "stdout",
     "output_type": "stream",
     "text": [
      "Model 10: Score = 566.7678629546502\n"
     ]
    },
    {
     "name": "stderr",
     "output_type": "stream",
     "text": [
      "Even though the 'transmat_' attribute is set, it will be overwritten during initialization because 'init_params' contains 't'\n"
     ]
    },
    {
     "name": "stdout",
     "output_type": "stream",
     "text": [
      "Model 11: Score = 512.490065317585\n"
     ]
    },
    {
     "name": "stderr",
     "output_type": "stream",
     "text": [
      "Even though the 'transmat_' attribute is set, it will be overwritten during initialization because 'init_params' contains 't'\n"
     ]
    },
    {
     "name": "stdout",
     "output_type": "stream",
     "text": [
      "Model 12: Score = 671.2995369521093\n"
     ]
    },
    {
     "name": "stderr",
     "output_type": "stream",
     "text": [
      "Even though the 'transmat_' attribute is set, it will be overwritten during initialization because 'init_params' contains 't'\n"
     ]
    },
    {
     "name": "stdout",
     "output_type": "stream",
     "text": [
      "Model 13: Score = 821.9922108869094\n"
     ]
    },
    {
     "name": "stderr",
     "output_type": "stream",
     "text": [
      "Even though the 'transmat_' attribute is set, it will be overwritten during initialization because 'init_params' contains 't'\n"
     ]
    },
    {
     "name": "stdout",
     "output_type": "stream",
     "text": [
      "Model 14: Score = 412.92509602801084\n"
     ]
    },
    {
     "name": "stderr",
     "output_type": "stream",
     "text": [
      "Even though the 'transmat_' attribute is set, it will be overwritten during initialization because 'init_params' contains 't'\n"
     ]
    },
    {
     "name": "stdout",
     "output_type": "stream",
     "text": [
      "Model 15: Score = 526.5988444752373\n"
     ]
    },
    {
     "name": "stderr",
     "output_type": "stream",
     "text": [
      "Even though the 'transmat_' attribute is set, it will be overwritten during initialization because 'init_params' contains 't'\n"
     ]
    },
    {
     "name": "stdout",
     "output_type": "stream",
     "text": [
      "Model 16: Score = 666.1330455578704\n"
     ]
    },
    {
     "name": "stderr",
     "output_type": "stream",
     "text": [
      "Even though the 'transmat_' attribute is set, it will be overwritten during initialization because 'init_params' contains 't'\n"
     ]
    },
    {
     "name": "stdout",
     "output_type": "stream",
     "text": [
      "Model 17: Score = 338.3408590115576\n"
     ]
    },
    {
     "name": "stderr",
     "output_type": "stream",
     "text": [
      "Even though the 'transmat_' attribute is set, it will be overwritten during initialization because 'init_params' contains 't'\n"
     ]
    },
    {
     "name": "stdout",
     "output_type": "stream",
     "text": [
      "Model 18: Score = 684.4997465882975\n"
     ]
    },
    {
     "name": "stderr",
     "output_type": "stream",
     "text": [
      "Even though the 'transmat_' attribute is set, it will be overwritten during initialization because 'init_params' contains 't'\n"
     ]
    },
    {
     "name": "stdout",
     "output_type": "stream",
     "text": [
      "Model 19: Score = 621.8411198176121\n"
     ]
    },
    {
     "name": "stderr",
     "output_type": "stream",
     "text": [
      "Even though the 'transmat_' attribute is set, it will be overwritten during initialization because 'init_params' contains 't'\n"
     ]
    },
    {
     "name": "stdout",
     "output_type": "stream",
     "text": [
      "Model 20: Score = 423.0455960677358\n"
     ]
    },
    {
     "name": "stderr",
     "output_type": "stream",
     "text": [
      "Even though the 'transmat_' attribute is set, it will be overwritten during initialization because 'init_params' contains 't'\n"
     ]
    },
    {
     "name": "stdout",
     "output_type": "stream",
     "text": [
      "Model 21: Score = 976.7396560844405\n",
      "Model 22: Score = 637.0678271715157\n"
     ]
    },
    {
     "name": "stderr",
     "output_type": "stream",
     "text": [
      "Even though the 'transmat_' attribute is set, it will be overwritten during initialization because 'init_params' contains 't'\n",
      "Even though the 'transmat_' attribute is set, it will be overwritten during initialization because 'init_params' contains 't'\n"
     ]
    },
    {
     "name": "stdout",
     "output_type": "stream",
     "text": [
      "Model 23: Score = 710.0119776920444\n"
     ]
    },
    {
     "name": "stderr",
     "output_type": "stream",
     "text": [
      "Even though the 'transmat_' attribute is set, it will be overwritten during initialization because 'init_params' contains 't'\n"
     ]
    },
    {
     "name": "stdout",
     "output_type": "stream",
     "text": [
      "Model 24: Score = 603.080164298872\n"
     ]
    },
    {
     "name": "stderr",
     "output_type": "stream",
     "text": [
      "Even though the 'transmat_' attribute is set, it will be overwritten during initialization because 'init_params' contains 't'\n"
     ]
    },
    {
     "name": "stdout",
     "output_type": "stream",
     "text": [
      "Model 25: Score = 772.996830999411\n"
     ]
    },
    {
     "name": "stderr",
     "output_type": "stream",
     "text": [
      "Even though the 'transmat_' attribute is set, it will be overwritten during initialization because 'init_params' contains 't'\n"
     ]
    },
    {
     "name": "stdout",
     "output_type": "stream",
     "text": [
      "Model 26: Score = 784.0124199215592\n"
     ]
    },
    {
     "name": "stderr",
     "output_type": "stream",
     "text": [
      "Even though the 'transmat_' attribute is set, it will be overwritten during initialization because 'init_params' contains 't'\n"
     ]
    },
    {
     "name": "stdout",
     "output_type": "stream",
     "text": [
      "Model 27: Score = 648.336354324735\n"
     ]
    },
    {
     "name": "stderr",
     "output_type": "stream",
     "text": [
      "Even though the 'transmat_' attribute is set, it will be overwritten during initialization because 'init_params' contains 't'\n"
     ]
    },
    {
     "name": "stdout",
     "output_type": "stream",
     "text": [
      "Model 28: Score = 711.8414056005254\n",
      "Model 29: Score = 795.0266085154564\n"
     ]
    },
    {
     "name": "stderr",
     "output_type": "stream",
     "text": [
      "Even though the 'transmat_' attribute is set, it will be overwritten during initialization because 'init_params' contains 't'\n",
      "Even though the 'transmat_' attribute is set, it will be overwritten during initialization because 'init_params' contains 't'\n"
     ]
    },
    {
     "name": "stdout",
     "output_type": "stream",
     "text": [
      "Model 30: Score = 741.5575712573066\n"
     ]
    },
    {
     "name": "stderr",
     "output_type": "stream",
     "text": [
      "Even though the 'transmat_' attribute is set, it will be overwritten during initialization because 'init_params' contains 't'\n"
     ]
    },
    {
     "name": "stdout",
     "output_type": "stream",
     "text": [
      "Model 31: Score = 584.401079997395\n"
     ]
    },
    {
     "name": "stderr",
     "output_type": "stream",
     "text": [
      "Even though the 'transmat_' attribute is set, it will be overwritten during initialization because 'init_params' contains 't'\n"
     ]
    },
    {
     "name": "stdout",
     "output_type": "stream",
     "text": [
      "Model 32: Score = 409.2990383337969\n"
     ]
    },
    {
     "name": "stderr",
     "output_type": "stream",
     "text": [
      "Even though the 'transmat_' attribute is set, it will be overwritten during initialization because 'init_params' contains 't'\n"
     ]
    },
    {
     "name": "stdout",
     "output_type": "stream",
     "text": [
      "Model 33: Score = 513.3046015845118\n"
     ]
    },
    {
     "name": "stderr",
     "output_type": "stream",
     "text": [
      "Even though the 'transmat_' attribute is set, it will be overwritten during initialization because 'init_params' contains 't'\n"
     ]
    },
    {
     "name": "stdout",
     "output_type": "stream",
     "text": [
      "Model 34: Score = 767.6290968299581\n"
     ]
    },
    {
     "name": "stderr",
     "output_type": "stream",
     "text": [
      "Even though the 'transmat_' attribute is set, it will be overwritten during initialization because 'init_params' contains 't'\n"
     ]
    },
    {
     "name": "stdout",
     "output_type": "stream",
     "text": [
      "Model 35: Score = 658.924598603155\n"
     ]
    },
    {
     "name": "stderr",
     "output_type": "stream",
     "text": [
      "Even though the 'transmat_' attribute is set, it will be overwritten during initialization because 'init_params' contains 't'\n"
     ]
    },
    {
     "name": "stdout",
     "output_type": "stream",
     "text": [
      "Model 36: Score = 602.9368032817946\n"
     ]
    },
    {
     "name": "stderr",
     "output_type": "stream",
     "text": [
      "Even though the 'transmat_' attribute is set, it will be overwritten during initialization because 'init_params' contains 't'\n"
     ]
    },
    {
     "name": "stdout",
     "output_type": "stream",
     "text": [
      "Model 37: Score = 813.2787459233548\n"
     ]
    },
    {
     "name": "stderr",
     "output_type": "stream",
     "text": [
      "Even though the 'transmat_' attribute is set, it will be overwritten during initialization because 'init_params' contains 't'\n"
     ]
    },
    {
     "name": "stdout",
     "output_type": "stream",
     "text": [
      "Model 38: Score = 751.5062811531992\n"
     ]
    },
    {
     "name": "stderr",
     "output_type": "stream",
     "text": [
      "Even though the 'transmat_' attribute is set, it will be overwritten during initialization because 'init_params' contains 't'\n"
     ]
    },
    {
     "name": "stdout",
     "output_type": "stream",
     "text": [
      "Model 39: Score = 961.4061936487775\n"
     ]
    },
    {
     "name": "stderr",
     "output_type": "stream",
     "text": [
      "Even though the 'transmat_' attribute is set, it will be overwritten during initialization because 'init_params' contains 't'\n"
     ]
    },
    {
     "name": "stdout",
     "output_type": "stream",
     "text": [
      "Model 40: Score = 751.1133256716918\n"
     ]
    },
    {
     "name": "stderr",
     "output_type": "stream",
     "text": [
      "Even though the 'transmat_' attribute is set, it will be overwritten during initialization because 'init_params' contains 't'\n"
     ]
    },
    {
     "name": "stdout",
     "output_type": "stream",
     "text": [
      "Model 41: Score = 687.0224156188858\n"
     ]
    },
    {
     "name": "stderr",
     "output_type": "stream",
     "text": [
      "Even though the 'transmat_' attribute is set, it will be overwritten during initialization because 'init_params' contains 't'\n"
     ]
    },
    {
     "name": "stdout",
     "output_type": "stream",
     "text": [
      "Model 42: Score = 731.6063667010529\n"
     ]
    },
    {
     "name": "stderr",
     "output_type": "stream",
     "text": [
      "Even though the 'transmat_' attribute is set, it will be overwritten during initialization because 'init_params' contains 't'\n"
     ]
    },
    {
     "name": "stdout",
     "output_type": "stream",
     "text": [
      "Model 43: Score = 722.3840915190991\n"
     ]
    },
    {
     "name": "stderr",
     "output_type": "stream",
     "text": [
      "Even though the 'transmat_' attribute is set, it will be overwritten during initialization because 'init_params' contains 't'\n"
     ]
    },
    {
     "name": "stdout",
     "output_type": "stream",
     "text": [
      "Model 44: Score = 712.1591371475187\n"
     ]
    },
    {
     "name": "stderr",
     "output_type": "stream",
     "text": [
      "Even though the 'transmat_' attribute is set, it will be overwritten during initialization because 'init_params' contains 't'\n"
     ]
    },
    {
     "name": "stdout",
     "output_type": "stream",
     "text": [
      "Model 45: Score = 526.4465198779303\n"
     ]
    },
    {
     "name": "stderr",
     "output_type": "stream",
     "text": [
      "Even though the 'transmat_' attribute is set, it will be overwritten during initialization because 'init_params' contains 't'\n"
     ]
    },
    {
     "name": "stdout",
     "output_type": "stream",
     "text": [
      "Model 46: Score = 647.0292698961621\n"
     ]
    },
    {
     "name": "stderr",
     "output_type": "stream",
     "text": [
      "Even though the 'transmat_' attribute is set, it will be overwritten during initialization because 'init_params' contains 't'\n"
     ]
    },
    {
     "name": "stdout",
     "output_type": "stream",
     "text": [
      "Model 47: Score = 695.9272115597457\n"
     ]
    },
    {
     "name": "stderr",
     "output_type": "stream",
     "text": [
      "Even though the 'transmat_' attribute is set, it will be overwritten during initialization because 'init_params' contains 't'\n"
     ]
    },
    {
     "name": "stdout",
     "output_type": "stream",
     "text": [
      "Model 48: Score = 689.4237066293509\n"
     ]
    },
    {
     "name": "stderr",
     "output_type": "stream",
     "text": [
      "Even though the 'transmat_' attribute is set, it will be overwritten during initialization because 'init_params' contains 't'\n"
     ]
    },
    {
     "name": "stdout",
     "output_type": "stream",
     "text": [
      "Model 49: Score = 736.6105342467213\n"
     ]
    },
    {
     "name": "stderr",
     "output_type": "stream",
     "text": [
      "Even though the 'transmat_' attribute is set, it will be overwritten during initialization because 'init_params' contains 't'\n"
     ]
    },
    {
     "name": "stdout",
     "output_type": "stream",
     "text": [
      "Model 50: Score = 678.8656953903992\n"
     ]
    },
    {
     "name": "stderr",
     "output_type": "stream",
     "text": [
      "Even though the 'transmat_' attribute is set, it will be overwritten during initialization because 'init_params' contains 't'\n"
     ]
    },
    {
     "name": "stdout",
     "output_type": "stream",
     "text": [
      "Model 51: Score = 718.5787281535678\n"
     ]
    },
    {
     "name": "stderr",
     "output_type": "stream",
     "text": [
      "Even though the 'transmat_' attribute is set, it will be overwritten during initialization because 'init_params' contains 't'\n"
     ]
    },
    {
     "name": "stdout",
     "output_type": "stream",
     "text": [
      "Model 52: Score = 704.5788595434122\n"
     ]
    },
    {
     "name": "stderr",
     "output_type": "stream",
     "text": [
      "Even though the 'transmat_' attribute is set, it will be overwritten during initialization because 'init_params' contains 't'\n"
     ]
    },
    {
     "name": "stdout",
     "output_type": "stream",
     "text": [
      "Model 53: Score = 629.9754405562855\n",
      "Model 54: Score = 810.2521450101659\n"
     ]
    },
    {
     "name": "stderr",
     "output_type": "stream",
     "text": [
      "Even though the 'transmat_' attribute is set, it will be overwritten during initialization because 'init_params' contains 't'\n",
      "Even though the 'transmat_' attribute is set, it will be overwritten during initialization because 'init_params' contains 't'\n"
     ]
    },
    {
     "name": "stdout",
     "output_type": "stream",
     "text": [
      "Model 55: Score = 742.575906580343\n"
     ]
    },
    {
     "name": "stderr",
     "output_type": "stream",
     "text": [
      "Even though the 'transmat_' attribute is set, it will be overwritten during initialization because 'init_params' contains 't'\n"
     ]
    },
    {
     "name": "stdout",
     "output_type": "stream",
     "text": [
      "Model 56: Score = 848.5802921700671\n"
     ]
    },
    {
     "name": "stderr",
     "output_type": "stream",
     "text": [
      "Even though the 'transmat_' attribute is set, it will be overwritten during initialization because 'init_params' contains 't'\n"
     ]
    },
    {
     "name": "stdout",
     "output_type": "stream",
     "text": [
      "Model 57: Score = 647.7073549344062\n"
     ]
    },
    {
     "name": "stderr",
     "output_type": "stream",
     "text": [
      "Even though the 'transmat_' attribute is set, it will be overwritten during initialization because 'init_params' contains 't'\n"
     ]
    },
    {
     "name": "stdout",
     "output_type": "stream",
     "text": [
      "Model 58: Score = 571.7765447071663\n",
      "Model 59: Score = 450.2259982495904\n"
     ]
    },
    {
     "name": "stderr",
     "output_type": "stream",
     "text": [
      "Even though the 'transmat_' attribute is set, it will be overwritten during initialization because 'init_params' contains 't'\n",
      "Even though the 'transmat_' attribute is set, it will be overwritten during initialization because 'init_params' contains 't'\n"
     ]
    },
    {
     "name": "stdout",
     "output_type": "stream",
     "text": [
      "Model 60: Score = 698.8142757456919\n"
     ]
    },
    {
     "name": "stderr",
     "output_type": "stream",
     "text": [
      "Even though the 'transmat_' attribute is set, it will be overwritten during initialization because 'init_params' contains 't'\n"
     ]
    },
    {
     "name": "stdout",
     "output_type": "stream",
     "text": [
      "Model 61: Score = 677.4278241471428\n"
     ]
    },
    {
     "name": "stderr",
     "output_type": "stream",
     "text": [
      "Even though the 'transmat_' attribute is set, it will be overwritten during initialization because 'init_params' contains 't'\n"
     ]
    },
    {
     "name": "stdout",
     "output_type": "stream",
     "text": [
      "Model 62: Score = 646.0626209139115\n"
     ]
    },
    {
     "name": "stderr",
     "output_type": "stream",
     "text": [
      "Even though the 'transmat_' attribute is set, it will be overwritten during initialization because 'init_params' contains 't'\n"
     ]
    },
    {
     "name": "stdout",
     "output_type": "stream",
     "text": [
      "Model 63: Score = 707.0586348234576\n"
     ]
    },
    {
     "name": "stderr",
     "output_type": "stream",
     "text": [
      "Even though the 'transmat_' attribute is set, it will be overwritten during initialization because 'init_params' contains 't'\n"
     ]
    },
    {
     "name": "stdout",
     "output_type": "stream",
     "text": [
      "Model 64: Score = 970.925806170171\n"
     ]
    },
    {
     "name": "stderr",
     "output_type": "stream",
     "text": [
      "Even though the 'transmat_' attribute is set, it will be overwritten during initialization because 'init_params' contains 't'\n"
     ]
    },
    {
     "name": "stdout",
     "output_type": "stream",
     "text": [
      "Model 65: Score = 747.273615572313\n"
     ]
    },
    {
     "name": "stderr",
     "output_type": "stream",
     "text": [
      "Even though the 'transmat_' attribute is set, it will be overwritten during initialization because 'init_params' contains 't'\n"
     ]
    },
    {
     "name": "stdout",
     "output_type": "stream",
     "text": [
      "Model 66: Score = 611.8076263282281\n"
     ]
    },
    {
     "name": "stderr",
     "output_type": "stream",
     "text": [
      "Even though the 'transmat_' attribute is set, it will be overwritten during initialization because 'init_params' contains 't'\n"
     ]
    },
    {
     "name": "stdout",
     "output_type": "stream",
     "text": [
      "Model 67: Score = 731.6736170217451\n"
     ]
    },
    {
     "name": "stderr",
     "output_type": "stream",
     "text": [
      "Even though the 'transmat_' attribute is set, it will be overwritten during initialization because 'init_params' contains 't'\n"
     ]
    },
    {
     "name": "stdout",
     "output_type": "stream",
     "text": [
      "Model 68: Score = 752.0261071193568\n"
     ]
    },
    {
     "name": "stderr",
     "output_type": "stream",
     "text": [
      "Even though the 'transmat_' attribute is set, it will be overwritten during initialization because 'init_params' contains 't'\n"
     ]
    },
    {
     "name": "stdout",
     "output_type": "stream",
     "text": [
      "Model 69: Score = 643.9920080236661\n"
     ]
    },
    {
     "name": "stderr",
     "output_type": "stream",
     "text": [
      "Even though the 'transmat_' attribute is set, it will be overwritten during initialization because 'init_params' contains 't'\n"
     ]
    },
    {
     "name": "stdout",
     "output_type": "stream",
     "text": [
      "Model 70: Score = 595.9564594456817\n"
     ]
    },
    {
     "name": "stderr",
     "output_type": "stream",
     "text": [
      "Even though the 'transmat_' attribute is set, it will be overwritten during initialization because 'init_params' contains 't'\n"
     ]
    },
    {
     "name": "stdout",
     "output_type": "stream",
     "text": [
      "Model 71: Score = 451.9750791683284\n"
     ]
    },
    {
     "name": "stderr",
     "output_type": "stream",
     "text": [
      "Even though the 'transmat_' attribute is set, it will be overwritten during initialization because 'init_params' contains 't'\n"
     ]
    },
    {
     "name": "stdout",
     "output_type": "stream",
     "text": [
      "Model 72: Score = 646.5034394326857\n",
      "Model 73: Score = 742.6588481236653\n"
     ]
    },
    {
     "name": "stderr",
     "output_type": "stream",
     "text": [
      "Even though the 'transmat_' attribute is set, it will be overwritten during initialization because 'init_params' contains 't'\n",
      "Even though the 'transmat_' attribute is set, it will be overwritten during initialization because 'init_params' contains 't'\n"
     ]
    },
    {
     "name": "stdout",
     "output_type": "stream",
     "text": [
      "Model 74: Score = 709.6596481121529\n"
     ]
    },
    {
     "name": "stderr",
     "output_type": "stream",
     "text": [
      "Even though the 'transmat_' attribute is set, it will be overwritten during initialization because 'init_params' contains 't'\n"
     ]
    },
    {
     "name": "stdout",
     "output_type": "stream",
     "text": [
      "Model 75: Score = 748.2918724431638\n",
      "Model 76: Score = 625.4251074281102\n"
     ]
    },
    {
     "name": "stderr",
     "output_type": "stream",
     "text": [
      "Even though the 'transmat_' attribute is set, it will be overwritten during initialization because 'init_params' contains 't'\n",
      "Even though the 'transmat_' attribute is set, it will be overwritten during initialization because 'init_params' contains 't'\n"
     ]
    },
    {
     "name": "stdout",
     "output_type": "stream",
     "text": [
      "Model 77: Score = 650.043305494944\n"
     ]
    },
    {
     "name": "stderr",
     "output_type": "stream",
     "text": [
      "Even though the 'transmat_' attribute is set, it will be overwritten during initialization because 'init_params' contains 't'\n"
     ]
    },
    {
     "name": "stdout",
     "output_type": "stream",
     "text": [
      "Model 78: Score = 651.1166398466103\n"
     ]
    },
    {
     "name": "stderr",
     "output_type": "stream",
     "text": [
      "Even though the 'transmat_' attribute is set, it will be overwritten during initialization because 'init_params' contains 't'\n"
     ]
    },
    {
     "name": "stdout",
     "output_type": "stream",
     "text": [
      "Model 79: Score = 798.8073616036208\n"
     ]
    },
    {
     "name": "stderr",
     "output_type": "stream",
     "text": [
      "Even though the 'transmat_' attribute is set, it will be overwritten during initialization because 'init_params' contains 't'\n"
     ]
    },
    {
     "name": "stdout",
     "output_type": "stream",
     "text": [
      "Model 80: Score = 601.7188954225987\n"
     ]
    },
    {
     "name": "stderr",
     "output_type": "stream",
     "text": [
      "Even though the 'transmat_' attribute is set, it will be overwritten during initialization because 'init_params' contains 't'\n"
     ]
    },
    {
     "name": "stdout",
     "output_type": "stream",
     "text": [
      "Model 81: Score = 248.42349275931383\n"
     ]
    },
    {
     "name": "stderr",
     "output_type": "stream",
     "text": [
      "Even though the 'transmat_' attribute is set, it will be overwritten during initialization because 'init_params' contains 't'\n"
     ]
    },
    {
     "name": "stdout",
     "output_type": "stream",
     "text": [
      "Model 82: Score = 674.5590035760899\n"
     ]
    },
    {
     "name": "stderr",
     "output_type": "stream",
     "text": [
      "Even though the 'transmat_' attribute is set, it will be overwritten during initialization because 'init_params' contains 't'\n"
     ]
    },
    {
     "name": "stdout",
     "output_type": "stream",
     "text": [
      "Model 83: Score = 647.7655511441513\n"
     ]
    },
    {
     "name": "stderr",
     "output_type": "stream",
     "text": [
      "Even though the 'transmat_' attribute is set, it will be overwritten during initialization because 'init_params' contains 't'\n"
     ]
    },
    {
     "name": "stdout",
     "output_type": "stream",
     "text": [
      "Model 84: Score = 561.384220115392\n"
     ]
    },
    {
     "name": "stderr",
     "output_type": "stream",
     "text": [
      "Even though the 'transmat_' attribute is set, it will be overwritten during initialization because 'init_params' contains 't'\n"
     ]
    },
    {
     "name": "stdout",
     "output_type": "stream",
     "text": [
      "Model 85: Score = 571.3387244815577\n"
     ]
    },
    {
     "name": "stderr",
     "output_type": "stream",
     "text": [
      "Even though the 'transmat_' attribute is set, it will be overwritten during initialization because 'init_params' contains 't'\n"
     ]
    },
    {
     "name": "stdout",
     "output_type": "stream",
     "text": [
      "Model 86: Score = 730.5841242155778\n"
     ]
    },
    {
     "name": "stderr",
     "output_type": "stream",
     "text": [
      "Even though the 'transmat_' attribute is set, it will be overwritten during initialization because 'init_params' contains 't'\n"
     ]
    },
    {
     "name": "stdout",
     "output_type": "stream",
     "text": [
      "Model 87: Score = 775.3361959172931\n"
     ]
    },
    {
     "name": "stderr",
     "output_type": "stream",
     "text": [
      "Even though the 'transmat_' attribute is set, it will be overwritten during initialization because 'init_params' contains 't'\n"
     ]
    },
    {
     "name": "stdout",
     "output_type": "stream",
     "text": [
      "Model 88: Score = 93.04106199393773\n"
     ]
    },
    {
     "name": "stderr",
     "output_type": "stream",
     "text": [
      "Even though the 'transmat_' attribute is set, it will be overwritten during initialization because 'init_params' contains 't'\n"
     ]
    },
    {
     "name": "stdout",
     "output_type": "stream",
     "text": [
      "Model 89: Score = 717.6696673065711\n"
     ]
    },
    {
     "name": "stderr",
     "output_type": "stream",
     "text": [
      "Even though the 'transmat_' attribute is set, it will be overwritten during initialization because 'init_params' contains 't'\n"
     ]
    },
    {
     "name": "stdout",
     "output_type": "stream",
     "text": [
      "Model 90: Score = 660.30289672005\n"
     ]
    },
    {
     "name": "stderr",
     "output_type": "stream",
     "text": [
      "Even though the 'transmat_' attribute is set, it will be overwritten during initialization because 'init_params' contains 't'\n"
     ]
    },
    {
     "name": "stdout",
     "output_type": "stream",
     "text": [
      "Model 91: Score = 737.0563585967718\n"
     ]
    },
    {
     "name": "stderr",
     "output_type": "stream",
     "text": [
      "Even though the 'transmat_' attribute is set, it will be overwritten during initialization because 'init_params' contains 't'\n"
     ]
    },
    {
     "name": "stdout",
     "output_type": "stream",
     "text": [
      "Model 92: Score = 706.8130420899669\n"
     ]
    },
    {
     "name": "stderr",
     "output_type": "stream",
     "text": [
      "Even though the 'transmat_' attribute is set, it will be overwritten during initialization because 'init_params' contains 't'\n"
     ]
    },
    {
     "name": "stdout",
     "output_type": "stream",
     "text": [
      "Model 93: Score = 752.7081971476395\n"
     ]
    },
    {
     "name": "stderr",
     "output_type": "stream",
     "text": [
      "Even though the 'transmat_' attribute is set, it will be overwritten during initialization because 'init_params' contains 't'\n"
     ]
    },
    {
     "name": "stdout",
     "output_type": "stream",
     "text": [
      "Model 94: Score = 698.8694042628082\n"
     ]
    },
    {
     "name": "stderr",
     "output_type": "stream",
     "text": [
      "Even though the 'transmat_' attribute is set, it will be overwritten during initialization because 'init_params' contains 't'\n"
     ]
    },
    {
     "name": "stdout",
     "output_type": "stream",
     "text": [
      "Model 95: Score = 625.4995484826187\n"
     ]
    },
    {
     "name": "stderr",
     "output_type": "stream",
     "text": [
      "Even though the 'transmat_' attribute is set, it will be overwritten during initialization because 'init_params' contains 't'\n"
     ]
    },
    {
     "name": "stdout",
     "output_type": "stream",
     "text": [
      "Model 96: Score = 451.24862112069036\n"
     ]
    },
    {
     "name": "stderr",
     "output_type": "stream",
     "text": [
      "Even though the 'transmat_' attribute is set, it will be overwritten during initialization because 'init_params' contains 't'\n"
     ]
    },
    {
     "name": "stdout",
     "output_type": "stream",
     "text": [
      "Model 97: Score = 718.8162790129765\n"
     ]
    },
    {
     "name": "stderr",
     "output_type": "stream",
     "text": [
      "Even though the 'transmat_' attribute is set, it will be overwritten during initialization because 'init_params' contains 't'\n"
     ]
    },
    {
     "name": "stdout",
     "output_type": "stream",
     "text": [
      "Model 98: Score = 366.78826460106427\n"
     ]
    },
    {
     "name": "stderr",
     "output_type": "stream",
     "text": [
      "Even though the 'transmat_' attribute is set, it will be overwritten during initialization because 'init_params' contains 't'\n"
     ]
    },
    {
     "name": "stdout",
     "output_type": "stream",
     "text": [
      "Model 99: Score = 676.2867255142538\n",
      "Model 100: Score = 740.9292130636201\n",
      "Best Model Found - Score = 976.7396560844405\n"
     ]
    }
   ],
   "source": [
    "# Calculate best model params and score\n",
    "djia_dataset_normalized = np.asarray(djia_dataset[\"DJIA\"].tolist())\n",
    "djia_dataset_normalized = djia_dataset_normalized/sum(djia_dataset_normalized)\n",
    "djia_dataset_normalized = djia_dataset_normalized.tolist()\n",
    "\n",
    "best_model_without_csp, best_model_without_csp_score = choose_best_model_without_csp(djia_dataset_normalized)\n",
    "best_model_with_csp, best_model_with_csp_score = choose_best_model_with_csp(djia_dataset_normalized, real_donald_trump)"
   ]
  },
  {
   "cell_type": "code",
   "execution_count": 175,
   "metadata": {},
   "outputs": [],
   "source": [
    "# Calculate index of states\n",
    "index_states_without_csp = calculate_index_states(best_model_without_csp, djia_dataset_normalized[int(0.8*len(djia_dataset_normalized)):])\n",
    "index_states_with_csp = calculate_index_states(best_model_with_csp, djia_dataset_normalized[int(0.8*len(djia_dataset_normalized)):])"
   ]
  },
  {
   "cell_type": "code",
   "execution_count": 176,
   "metadata": {},
   "outputs": [],
   "source": [
    "djia_states_testing = djia_states[int(0.8*len(djia_dataset_normalized)):]"
   ]
  },
  {
   "cell_type": "code",
   "execution_count": 177,
   "metadata": {},
   "outputs": [],
   "source": [
    "# Count correct predictions\n",
    "def correct_predictions(actual_states, calculated_states):\n",
    "    count = 0\n",
    "    for i in range(len(actual_states)):\n",
    "        if(abs(actual_states[i] - calculated_states[i]) <= 3):\n",
    "            count += 1\n",
    "    return count"
   ]
  },
  {
   "cell_type": "code",
   "execution_count": 178,
   "metadata": {},
   "outputs": [],
   "source": [
    "# Calculate Accuracy\n",
    "accuracy_without_csp = correct_predictions(djia_states_testing, index_states_without_csp)/len(djia_states_testing)\n",
    "accuracy_with_csp = correct_predictions(djia_states_testing, index_states_with_csp)/len(djia_states_testing)"
   ]
  },
  {
   "cell_type": "code",
   "execution_count": 191,
   "metadata": {},
   "outputs": [
    {
     "data": {
      "text/plain": [
       "0.6054421768707483"
      ]
     },
     "execution_count": 191,
     "metadata": {},
     "output_type": "execute_result"
    }
   ],
   "source": [
    "accuracy_with_csp"
   ]
  },
  {
   "cell_type": "code",
   "execution_count": 180,
   "metadata": {},
   "outputs": [],
   "source": [
    "# Calculate MAPE\n",
    "def calculate_mape(actual_states, calculated_states):\n",
    "    count = 0\n",
    "    for i in range(len(actual_states)):\n",
    "        count = count + abs((actual_states[i] - calculated_states[i])/(actual_states[i]+100))\n",
    "    return (count/len(calculated_states))*100"
   ]
  },
  {
   "cell_type": "code",
   "execution_count": 181,
   "metadata": {},
   "outputs": [
    {
     "data": {
      "text/plain": [
       "2.756057604202851"
      ]
     },
     "execution_count": 181,
     "metadata": {},
     "output_type": "execute_result"
    }
   ],
   "source": [
    "calculate_mape(djia_states_testing, index_states_with_csp)"
   ]
  },
  {
   "cell_type": "code",
   "execution_count": 182,
   "metadata": {},
   "outputs": [],
   "source": [
    "# Predict Prices\n",
    "def predict_prices(data, index_states):\n",
    "    X = data\n",
    "    price_variation = [-3,-2,-1,-0.1,0.1,1,2,3]\n",
    "    predicted_prices = [X[int(0.8*len(X))-1]]\n",
    "    for i in range(1, int(0.2*len(X))):\n",
    "        new_price = predicted_prices[i-1] + predicted_prices[i-1]*price_variation[index_states[i]]/100\n",
    "        predicted_prices.append(new_price)\n",
    "    return predicted_prices    "
   ]
  },
  {
   "cell_type": "code",
   "execution_count": 183,
   "metadata": {},
   "outputs": [],
   "source": [
    "predict_prices_without_csp = predict_prices(djia_dataset_normalized, index_states_without_csp)\n",
    "predict_prices_with_csp = predict_prices(djia_dataset_normalized, index_states_with_csp)"
   ]
  },
  {
   "cell_type": "code",
   "execution_count": 217,
   "metadata": {},
   "outputs": [
    {
     "data": {
      "text/plain": [
       "Text(0.5, 1.0, 'State transition without and with CSP')"
      ]
     },
     "execution_count": 217,
     "metadata": {},
     "output_type": "execute_result"
    },
    {
     "data": {
      "image/png": "[encoded data removed]",
      "text/plain": [
       "<Figure size 432x288 with 2 Axes>"
      ]
     },
     "metadata": {
      "needs_background": "light"
     },
     "output_type": "display_data"
    }
   ],
   "source": [
    "# State Transition\n",
    "#fig = plt.figure(figsize=(10,5))\n",
    "fig, ax = plt.subplots(2)\n",
    "ax[0].plot(index_states_without_csp, label = 'State transition without CSP')\n",
    "ax[1].plot(index_states_with_csp,label = 'State transition with CSP', color='green')\n",
    "ax[0].set_xlabel(\"Time\")\n",
    "ax[0].set_ylabel(\"State\")\n",
    "ax[1].set_xlabel(\"Time\")\n",
    "ax[1].set_ylabel(\"State\")\n",
    "ax[0].set_title('State transition without and with CSP')"
   ]
  },
  {
   "cell_type": "code",
   "execution_count": 184,
   "metadata": {},
   "outputs": [
    {
     "data": {
      "text/plain": [
       "Text(0, 0.5, 'DJIA Index Value')"
      ]
     },
     "execution_count": 184,
     "metadata": {},
     "output_type": "execute_result"
    },
    {
     "data": {
      "image/png": "[encoded data removed]",
      "text/plain": [
       "<Figure size 720x720 with 1 Axes>"
      ]
     },
     "metadata": {
      "needs_background": "light"
     },
     "output_type": "display_data"
    }
   ],
   "source": [
    "# plot predicted trend vs actual trend\n",
    "fig = plt.figure(figsize=(10,10))\n",
    "plt.plot(predict_prices_without_csp, label = 'Predicted Values - Without CSP')\n",
    "plt.plot(predict_prices_with_csp, label = 'Predicted Values - With CSP')\n",
    "plt.plot(djia_dataset_normalized[int(0.8*len(djia_dataset_normalized)):], label = 'Actual Trend')\n",
    "plt.legend(loc = 'upper left')\n",
    "plt.xlabel(\"Time\")\n",
    "plt.ylabel(\"DJIA Index Value\")"
   ]
  },
  {
   "cell_type": "code",
   "execution_count": 185,
   "metadata": {},
   "outputs": [],
   "source": [
    "#import pickle\n",
    "#with open(\"bestfitdjiamodeln.pkl\", \"wb\") as f: \n",
    "#    pickle.dump(best_model, f)"
   ]
  },
  {
   "cell_type": "code",
   "execution_count": 186,
   "metadata": {},
   "outputs": [],
   "source": [
    "X = djia_dataset[\"DJIA\"].tolist()\n",
    "X_train = X[:int(0.8*len(X))]\n",
    "X_test = X[int(0.8*len(X)):]\n",
    "X_train = np.asarray(X_train).reshape(-1, 1)\n",
    "X_test = np.asarray(X_test).reshape(-1, 1)"
   ]
  },
  {
   "cell_type": "code",
   "execution_count": 187,
   "metadata": {},
   "outputs": [],
   "source": [
    "# Find time complexity\n",
    "def finding_model_time(X_train, tweet_dataset):\n",
    "    start_time = time.time()\n",
    "    model = training_hmm_without_csp(X_train)\n",
    "    print(\"--- %s seconds ---\" % (time.time() - start_time))\n",
    "    start_time = time.time()\n",
    "    model = training_hmm_with_csp(X_train, tweet_dataset)\n",
    "    print(\"--- %s seconds ---\" % (time.time() - start_time))"
   ]
  },
  {
   "cell_type": "code",
   "execution_count": 188,
   "metadata": {},
   "outputs": [
    {
     "name": "stderr",
     "output_type": "stream",
     "text": [
      "Even though the 'transmat_' attribute is set, it will be overwritten during initialization because 'init_params' contains 't'\n"
     ]
    },
    {
     "name": "stdout",
     "output_type": "stream",
     "text": [
      "--- 0.22924375534057617 seconds ---\n",
      "--- 0.22762537002563477 seconds ---\n"
     ]
    }
   ],
   "source": [
    "finding_model_time(X_train, real_donald_trump)"
   ]
  },
  {
   "cell_type": "code",
   "execution_count": null,
   "metadata": {},
   "outputs": [],
   "source": []
  }
 ],
 "metadata": {
  "kernelspec": {
   "display_name": "Python 3.9.7 64-bit",
   "language": "python",
   "name": "python3"
  },
  "language_info": {
   "codemirror_mode": {
    "name": "ipython",
    "version": 3
   },
   "file_extension": ".py",
   "mimetype": "text/x-python",
   "name": "python",
   "nbconvert_exporter": "python",
   "pygments_lexer": "ipython3",
   "version": "3.9.7"
  },
  "orig_nbformat": 4,
  "vscode": {
   "interpreter": {
    "hash": "74896034db1845be5000ed9314487ee297f444d1b9bf6f172497bb9704b8efa0"
   }
  }
 },
 "nbformat": 4,
 "nbformat_minor": 2
}
