{
 "cells": [
  {
   "cell_type": "code",
   "execution_count": null,
   "metadata": {},
   "outputs": [],
   "source": [
    "import numpy as np\n",
    "import pandas as pd\n",
    "import matplotlib.pyplot as plt\n",
    "import nltk\n",
    "nltk.download('vader_lexicon')\n",
    "from nltk.sentiment.vader import SentimentIntensityAnalyzer\n",
    "\n",
    "sid = SentimentIntensityAnalyzer()\n",
    "\n",
    "\n",
    "import re\n",
    "import pandas as pd\n",
    "import nltk\n",
    "nltk.download('words')\n",
    "words = set(nltk.corpus.words.words())"
   ]
  },
  {
   "cell_type": "code",
   "execution_count": null,
   "metadata": {},
   "outputs": [],
   "source": [
    "real_donald_trump = pd.read_csv(\"realdonaldtrump.csv\")\n",
    "trump_tweets = pd.read_csv(\"trumptweets.csv\")"
   ]
  },
  {
   "cell_type": "code",
   "execution_count": null,
   "metadata": {},
   "outputs": [],
   "source": [
    "cond1 = real_donald_trump['date'] >= \"2017-01-20\"\n",
    "cond2 = real_donald_trump['date'] <= \"2020-01-20\""
   ]
  },
  {
   "cell_type": "code",
   "execution_count": null,
   "metadata": {},
   "outputs": [],
   "source": [
    "real_donald_trump = real_donald_trump.where((cond1 & cond2)).dropna()"
   ]
  },
  {
   "cell_type": "code",
   "execution_count": null,
   "metadata": {},
   "outputs": [],
   "source": [
    "def cleaner(tweet):\n",
    "    tweet = re.sub(\"@[A-Za-z0-9]+\",\"\",tweet) #Remove @ sign\n",
    "    tweet = re.sub(r\"(?:\\@|http?\\://|https?\\://|www)\\S+\", \"\", tweet) #Remove http links\n",
    "    tweet = \" \".join(tweet.split())\n",
    "    tweet = tweet.replace(\"#\", \"\").replace(\"_\", \" \") #Remove hashtag sign but keep the text\n",
    "    tweet = \" \".join(w for w in nltk.wordpunct_tokenize(tweet)\n",
    "         if w.lower() in words or not w.isalpha())\n",
    "    return tweet\n",
    "    \n",
    "\n",
    "real_donald_trump['content_clean'] = real_donald_trump['content'].apply(cleaner)"
   ]
  },
  {
   "cell_type": "code",
   "execution_count": null,
   "metadata": {},
   "outputs": [],
   "source": [
    "word_dict = {'manipulate':-1,'manipulative':-1,'jamescharlesiscancelled':-1,'jamescharlesisoverparty':-1,\n",
    "            'pedophile':-1,'pedo':-1,'cancel':-1,'cancelled':-1,'cancel culture':0.4,'teamtati':-1,'teamjames':1,\n",
    "            'teamjamescharles':1,'liar':-1}\n",
    "\n",
    "\n",
    "sid = SentimentIntensityAnalyzer()\n",
    "sid.lexicon.update(word_dict)\n",
    "\n",
    "list1 = []\n",
    "for i in real_donald_trump['content_clean']:\n",
    "    list1.append((sid.polarity_scores(str(i)))['compound'])"
   ]
  },
  {
   "cell_type": "code",
   "execution_count": null,
   "metadata": {},
   "outputs": [],
   "source": [
    "real_donald_trump['sentiment'] = list1\n",
    "\n",
    "def sentiment_category(sentiment):\n",
    "    label = ''\n",
    "    if(sentiment > 0.5):\n",
    "        label = 'positive'\n",
    "    else:\n",
    "        label = 'negative'\n",
    "    return(label)\n",
    "\n",
    "real_donald_trump['sentiment_category'] = real_donald_trump['sentiment'].apply(sentiment_category)"
   ]
  },
  {
   "cell_type": "code",
   "execution_count": null,
   "metadata": {},
   "outputs": [],
   "source": [
    "real_donald_trump"
   ]
  },
  {
   "cell_type": "code",
   "execution_count": null,
   "metadata": {},
   "outputs": [],
   "source": [
    "neg = real_donald_trump[real_donald_trump['sentiment_category']=='negative']\n",
    "neg = neg.groupby(['date'],as_index=False).count()\n",
    "\n",
    "pos = real_donald_trump[real_donald_trump['sentiment_category']=='positive']\n",
    "pos = pos.groupby(['date'],as_index=False).count()\n",
    "\n",
    "pos = pos[['date','id']]\n",
    "neg = neg[['date','id']]"
   ]
  },
  {
   "cell_type": "code",
   "execution_count": null,
   "metadata": {},
   "outputs": [],
   "source": [
    "neg_date = neg['date'].tolist()"
   ]
  },
  {
   "cell_type": "code",
   "execution_count": null,
   "metadata": {},
   "outputs": [],
   "source": [
    "real_donald_trump['content'].loc[real_donald_trump['date'] == neg_date[50]].tolist()"
   ]
  },
  {
   "cell_type": "code",
   "execution_count": null,
   "metadata": {},
   "outputs": [],
   "source": []
  }
 ],
 "metadata": {
  "kernelspec": {
   "display_name": "Python 3.9.7 64-bit",
   "language": "python",
   "name": "python3"
  },
  "language_info": {
   "codemirror_mode": {
    "name": "ipython",
    "version": 3
   },
   "file_extension": ".py",
   "mimetype": "text/x-python",
   "name": "python",
   "nbconvert_exporter": "python",
   "pygments_lexer": "ipython3",
   "version": "3.9.7"
  },
  "orig_nbformat": 4,
  "vscode": {
   "interpreter": {
    "hash": "74896034db1845be5000ed9314487ee297f444d1b9bf6f172497bb9704b8efa0"
   }
  }
 },
 "nbformat": 4,
 "nbformat_minor": 2
}
